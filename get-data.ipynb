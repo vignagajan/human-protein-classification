{
  "nbformat": 4,
  "nbformat_minor": 0,
  "metadata": {
    "colab": {
      "name": "get-data.ipynb",
      "provenance": []
    },
    "kernelspec": {
      "name": "python3",
      "display_name": "Python 3"
    }
  },
  "cells": [
    {
      "cell_type": "markdown",
      "metadata": {
        "id": "8ITgIMCdaF5u"
      },
      "source": [
        "##Get Data"
      ]
    },
    {
      "cell_type": "markdown",
      "metadata": {
        "id": "csPslog45rIP"
      },
      "source": [
        "You need [Kaggle](https://www.kaggle.com/) account to get data. Because the data size is around ***8 GB***. "
      ]
    },
    {
      "cell_type": "code",
      "metadata": {
        "id": "Zb4y3L7uaB_j"
      },
      "source": [
        "# Install kaggle API\n",
        "!pip install -q git+https://github.com/Kaggle/kaggle-api.git --upgrade"
      ],
      "execution_count": null,
      "outputs": []
    },
    {
      "cell_type": "code",
      "metadata": {
        "id": "lbHTmjIfkZdB"
      },
      "source": [
        "import os\r\n",
        "\r\n",
        "# Add your credentials\r\n",
        "credentials = {\r\n",
        "    \"username\": \"\", # KAGGLE_USERNAME\r\n",
        "    \"key\":\"\"        # API_KEY\r\n",
        "}\r\n",
        "\r\n",
        "# Setup environmental variables\r\n",
        "os.environ['KAGGLE_USERNAME']=credentials[\"username\"]\r\n",
        "os.environ['KAGGLE_KEY']=credentials[\"key\"]"
      ],
      "execution_count": null,
      "outputs": []
    },
    {
      "cell_type": "code",
      "metadata": {
        "id": "3GF_H8SfbUeL"
      },
      "source": [
        "# Download dataset\n",
        "!kaggle competitions download -c jovian-pytorch-z2g\n",
        "\n",
        "# Unzip and  delete zip file\n",
        "!unzip jovian-pytorch-z2g.zip && rm jovian-pytorch-z2g.zip"
      ],
      "execution_count": null,
      "outputs": []
    }
  ]
}